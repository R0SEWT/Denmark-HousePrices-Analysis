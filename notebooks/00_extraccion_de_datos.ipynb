{
 "cells": [
  {
   "cell_type": "markdown",
   "id": "a11248b2",
   "metadata": {},
   "source": [
    "# Extaccion de datos \n",
    "\n",
    "\n",
    "Requisito: obtener y configurar tu `API_KEY` de kaggle para poder descargar los datasets.\n",
    "\n",
    "TODO: Agregar un drive publico para facilitar la descarga de los datasets."
   ]
  },
  {
   "cell_type": "code",
   "execution_count": null,
   "id": "19876948",
   "metadata": {},
   "outputs": [],
   "source": [
    "from setup import set_project_root # codigo para establecer la raiz del proyecto\n",
    "set_project_root()"
   ]
  },
  {
   "cell_type": "code",
   "execution_count": null,
   "id": "adb03bc6",
   "metadata": {},
   "outputs": [],
   "source": [
    "import subprocess\n",
    "\n",
    "def download_data():\n",
    "    subprocess.run([\n",
    "        \"kaggle\", \"datasets\", \"download\",\n",
    "        \"martinfrederiksen/danish-residential-housing-prices-1992-2024\",\n",
    "        \"--unzip\", \"-p\", \"data/raw\"\n",
    "    ])\n"
   ]
  },
  {
   "cell_type": "code",
   "execution_count": null,
   "id": "62a72f62",
   "metadata": {},
   "outputs": [],
   "source": [
    "download_data()"
   ]
  }
 ],
 "metadata": {
  "kernelspec": {
   "display_name": "BigData",
   "language": "python",
   "name": "python3"
  },
  "language_info": {
   "codemirror_mode": {
    "name": "ipython",
    "version": 3
   },
   "file_extension": ".py",
   "mimetype": "text/x-python",
   "name": "python",
   "nbconvert_exporter": "python",
   "pygments_lexer": "ipython3",
   "version": "3.10.18"
  }
 },
 "nbformat": 4,
 "nbformat_minor": 5
}
