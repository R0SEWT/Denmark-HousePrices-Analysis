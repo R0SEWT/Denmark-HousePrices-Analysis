{
 "cells": [
  {
   "cell_type": "markdown",
   "id": "a11248b2",
   "metadata": {},
   "source": [
    "# Extaccion de datos \n",
    "\n",
    "## Dataset principal\n",
    "\n",
    "Requisitos: obtener y configurar tu `API_KEY` de kaggle"
   ]
  },
  {
   "cell_type": "code",
   "execution_count": null,
   "id": "adb03bc6",
   "metadata": {},
   "outputs": [],
   "source": [
    "import os\n",
    "def download_data():\n",
    "    if (\"data\" not in os.listdir()):\n",
    "        !kaggle datasets download martinfrederiksen/danish-residential-housing-prices-1992-2024 --unzip -p ../data\n",
    "    else:\n",
    "        print(\"Data already downloaded.\")"
   ]
  },
  {
   "cell_type": "code",
   "execution_count": 6,
   "id": "62a72f62",
   "metadata": {},
   "outputs": [
    {
     "name": "stdout",
     "output_type": "stream",
     "text": [
      "Dataset URL: https://www.kaggle.com/datasets/martinfrederiksen/danish-residential-housing-prices-1992-2024\n",
      "License(s): other\n",
      "Downloading danish-residential-housing-prices-1992-2024.zip to data\n",
      "  0%|                                               | 0.00/36.2M [00:00<?, ?B/s]\n",
      "100%|██████████████████████████████████████| 36.2M/36.2M [00:00<00:00, 3.07GB/s]\n"
     ]
    }
   ],
   "source": [
    "download_data()"
   ]
  }
 ],
 "metadata": {
  "kernelspec": {
   "display_name": "TFBigData",
   "language": "python",
   "name": "python3"
  },
  "language_info": {
   "codemirror_mode": {
    "name": "ipython",
    "version": 3
   },
   "file_extension": ".py",
   "mimetype": "text/x-python",
   "name": "python",
   "nbconvert_exporter": "python",
   "pygments_lexer": "ipython3",
   "version": "3.10.18"
  }
 },
 "nbformat": 4,
 "nbformat_minor": 5
}
