{
 "cells": [
  {
   "cell_type": "markdown",
   "id": "a11248b2",
   "metadata": {},
   "source": [
    "# Extaccion de datos \n",
    "\n",
    "## Dataset principal\n",
    "\n",
    "Requisitos: obtener y configurar tu `API_KEY` de kaggle"
   ]
  },
  {
   "cell_type": "code",
   "execution_count": 1,
   "id": "19876948",
   "metadata": {},
   "outputs": [
    {
     "name": "stdout",
     "output_type": "stream",
     "text": [
      "Current working directory: /home/exodia/Documentos/TFBigData\n"
     ]
    }
   ],
   "source": [
    "from setup import set_project_root\n",
    "set_project_root()\n",
    "\n",
    "from config import DATA_DIR, DISTRIBUTED_DIR, ISDISTRIBUTED\n"
   ]
  },
  {
   "cell_type": "code",
   "execution_count": null,
   "id": "adb03bc6",
   "metadata": {},
   "outputs": [],
   "source": [
    "import os\n",
    "import subprocess\n",
    "\n",
    "def download_data():\n",
    "    if ISDISTRIBUTED:\n",
    "        data_dir = DISTRIBUTED_DIR\n",
    "    else:\n",
    "        data_dir = DATA_DIR\n",
    "        \n",
    "        \n",
    "    dataset = \"martinfrederiksen/danish-residential-housing-prices-1992-2024\"\n",
    "    \n",
    "    \n",
    "    try:\n",
    "        os.makedirs(data_dir, exist_ok=True)\n",
    "    except PermissionError:\n",
    "        print(f\"No tienes permisos para crear {data_dir}. Elige otra ruta o cambia permisos.\")\n",
    "        return\n",
    "\n",
    "    try:\n",
    "        cmd = [\n",
    "            \"kaggle\", \"datasets\", \"download\", dataset,\n",
    "            \"--unzip\", \"-p\", data_dir\n",
    "        ]\n",
    "        subprocess.run(cmd, check=True)\n",
    "        print(\"Data downloaded and extracted.\")\n",
    "    except subprocess.CalledProcessError as e:\n",
    "        print(f\"Error downloading dataset: {e}\")\n",
    "        \n",
    "        \n"
   ]
  },
  {
   "cell_type": "code",
   "execution_count": 6,
   "id": "62a72f62",
   "metadata": {},
   "outputs": [
    {
     "name": "stdout",
     "output_type": "stream",
     "text": [
      "❌ No tienes permisos para crear /mnt/sambashare/BigData-DATA/DKHousingPrices. Elige otra ruta o cambia permisos.\n"
     ]
    }
   ],
   "source": [
    "download_data()"
   ]
  }
 ],
 "metadata": {
  "kernelspec": {
   "display_name": "TFBigData",
   "language": "python",
   "name": "python3"
  },
  "language_info": {
   "codemirror_mode": {
    "name": "ipython",
    "version": 3
   },
   "file_extension": ".py",
   "mimetype": "text/x-python",
   "name": "python",
   "nbconvert_exporter": "python",
   "pygments_lexer": "ipython3",
   "version": "3.10.18"
  }
 },
 "nbformat": 4,
 "nbformat_minor": 5
}
