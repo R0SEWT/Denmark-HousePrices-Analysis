{
 "cells": [
  {
   "cell_type": "code",
   "execution_count": 1,
   "id": "d6c71440",
   "metadata": {},
   "outputs": [
    {
     "name": "stdout",
     "output_type": "stream",
     "text": [
      "Current working directory: /home/exodia/Documentos/TFBigData\n"
     ]
    }
   ],
   "source": [
    "from setup import set_project_root\n",
    "set_project_root()\n",
    "\n",
    "from config import DATA_FILE, DROP_COLS, TARGET "
   ]
  },
  {
   "cell_type": "markdown",
   "id": "9bed0548",
   "metadata": {},
   "source": [
    "# 02 - Análisis Descriptivo"
   ]
  },
  {
   "cell_type": "markdown",
   "id": "90a64416",
   "metadata": {},
   "source": [
    "## Objetivo\n",
    "Análisis de KPIs, evolución temporal y diferencias regionales."
   ]
  },
  {
   "cell_type": "markdown",
   "id": "a67d6b36",
   "metadata": {},
   "source": [
    "## 1. KPIs por región"
   ]
  },
  {
   "cell_type": "markdown",
   "id": "52d07c79",
   "metadata": {},
   "source": [
    "## 2. Evolución temporal de precios"
   ]
  },
  {
   "cell_type": "markdown",
   "id": "cae16d50",
   "metadata": {},
   "source": [
    "## 3. Diferencias por tipo de propiedad"
   ]
  },
  {
   "cell_type": "markdown",
   "id": "f27486d1",
   "metadata": {},
   "source": [
    "## 4. Visualizaciones relevantes"
   ]
  },
  {
   "cell_type": "markdown",
   "id": "83fdb71b",
   "metadata": {},
   "source": [
    "## 5. Conclusiones parciales"
   ]
  }
 ],
 "metadata": {
  "kernelspec": {
   "display_name": "TFBigData",
   "language": "python",
   "name": "python3"
  },
  "language_info": {
   "codemirror_mode": {
    "name": "ipython",
    "version": 3
   },
   "file_extension": ".py",
   "mimetype": "text/x-python",
   "name": "python",
   "nbconvert_exporter": "python",
   "pygments_lexer": "ipython3",
   "version": "3.10.18"
  }
 },
 "nbformat": 4,
 "nbformat_minor": 5
}
