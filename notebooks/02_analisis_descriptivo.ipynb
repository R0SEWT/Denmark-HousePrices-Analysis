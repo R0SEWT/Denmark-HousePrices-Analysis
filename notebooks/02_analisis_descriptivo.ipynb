{
 "cells": [
  {
   "cell_type": "code",
   "execution_count": null,
   "id": "d6c71440",
   "metadata": {},
   "outputs": [],
   "source": [
    "from pathlib import Path\n",
    "import os\n",
    "import sys\n",
    "\n",
    "current_path = Path.cwd()\n",
    "if current_path.name == \"notebooks\":\n",
    "    project_root = current_path.parent\n",
    "else:\n",
    "    project_root = current_path\n",
    "\n",
    "os.chdir(project_root)\n",
    "print(f\"Current working directory: {Path.cwd()}\")\n",
    "\n",
    "sys.path.append(str(project_root / \"src\"))\n"
   ]
  },
  {
   "cell_type": "markdown",
   "id": "9bed0548",
   "metadata": {},
   "source": [
    "# 02 - Análisis Descriptivo"
   ]
  },
  {
   "cell_type": "markdown",
   "id": "90a64416",
   "metadata": {},
   "source": [
    "## Objetivo\n",
    "Análisis de KPIs, evolución temporal y diferencias regionales."
   ]
  },
  {
   "cell_type": "markdown",
   "id": "a67d6b36",
   "metadata": {},
   "source": [
    "## 1. KPIs por región"
   ]
  },
  {
   "cell_type": "markdown",
   "id": "52d07c79",
   "metadata": {},
   "source": [
    "## 2. Evolución temporal de precios"
   ]
  },
  {
   "cell_type": "markdown",
   "id": "cae16d50",
   "metadata": {},
   "source": [
    "## 3. Diferencias por tipo de propiedad"
   ]
  },
  {
   "cell_type": "markdown",
   "id": "f27486d1",
   "metadata": {},
   "source": [
    "## 4. Visualizaciones relevantes"
   ]
  },
  {
   "cell_type": "markdown",
   "id": "83fdb71b",
   "metadata": {},
   "source": [
    "## 5. Conclusiones parciales"
   ]
  }
 ],
 "metadata": {},
 "nbformat": 4,
 "nbformat_minor": 5
}
