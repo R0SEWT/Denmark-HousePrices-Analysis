{
 "cells": [
  {
   "cell_type": "markdown",
   "id": "a0551193",
   "metadata": {},
   "source": [
    "# Feature Engineering para Precios Inmobiliarios Dinamarca\n",
    "\n",
    "**Objetivo**: Transformación y construcción de variables predictivas para el modelado supervisado de precios de vivienda en Dinamarca.\n",
    "\n",
    "**Contenido**:\n",
    "1. Carga de datos y configuración inicial\n",
    "2. Pipeline de feature engineering modular\n",
    "3. Enriquecimiento geográfico\n",
    "4. Documentación de resultados"
   ]
  },
  {
   "cell_type": "code",
   "execution_count": 2,
   "id": "6b8f4523",
   "metadata": {},
   "outputs": [
    {
     "name": "stdout",
     "output_type": "stream",
     "text": [
      "Current working directory: /home/exodia/Documentos/TFBigData\n",
      "Configuración cargada.\n",
      "Configuración cargada.\n"
     ]
    }
   ],
   "source": [
    "# Configuración y carga de módulos\n",
    "import pandas as pd\n",
    "import warnings\n",
    "from pathlib import Path\n",
    "import json\n",
    "from datetime import datetime\n",
    "import sys\n",
    "\n",
    "import setup\n",
    "setup.set_project_root()\n",
    "\n",
    "from config import *\n",
    "from feature_engineering import enhanced_feature_engineering_pipeline\n",
    "from descriptive_analysis import load_and_validate_data\n",
    "\n",
    "warnings.filterwarnings('ignore')\n",
    "print(\"Configuración cargada.\")"
   ]
  },
  {
   "cell_type": "code",
   "execution_count": 3,
   "id": "588037d6",
   "metadata": {},
   "outputs": [
    {
     "name": "stdout",
     "output_type": "stream",
     "text": [
      "Datos cargados: 1,506,591 filas, 19 columnas\n",
      "Rango temporal: 1992-01-05 a 2024-09-30\n"
     ]
    }
   ],
   "source": [
    "# Carga de datos\n",
    "df = pd.read_parquet(CLEAN_FILE)\n",
    "df['date'] = pd.to_datetime(df['date'])\n",
    "\n",
    "print(f\"Datos cargados: {df.shape[0]:,} filas, {df.shape[1]} columnas\")\n",
    "print(f\"Rango temporal: {df['date'].min().date()} a {df['date'].max().date()}\")"
   ]
  },
  {
   "cell_type": "markdown",
   "id": "4b57cfa8",
   "metadata": {},
   "source": [
    "## Pipeline de Feature Engineering con Enriquecimiento Geográfico"
   ]
  },
  {
   "cell_type": "code",
   "execution_count": null,
   "id": "f61063f8",
   "metadata": {},
   "outputs": [
    {
     "name": "stdout",
     "output_type": "stream",
     "text": [
      "Ejecutando pipeline de feature engineering...\n"
     ]
    }
   ],
   "source": [
    "# Pipeline completo (sin enriquecimiento geográfico temporalmente)\n",
    "print(\"Ejecutando pipeline de feature engineering...\")\n",
    "\n",
    "output_dir = DATA_DIR / \"processed\"\n",
    "\n",
    "# Usar el pipeline básico primero\n",
    "from feature_engineering import run_complete_feature_engineering_pipeline\n",
    "\n",
    "results = run_complete_feature_engineering_pipeline(\n",
    "    df=df,\n",
    "    target_col=TARGET,\n",
    "    output_dir=output_dir\n",
    ")\n",
    "\n",
    "# Extraer resultados\n",
    "df_final = results['final_dataset']\n",
    "selected_features = results['selected_features']\n",
    "metadata = results['metadata']\n",
    "saved_files = results['saved_files']\n",
    "\n",
    "print(f\"\\nPipeline completado.\")\n",
    "print(f\"Dataset final: {df_final.shape[0]:,} filas x {df_final.shape[1]} columnas\")\n",
    "print(f\"Features seleccionadas: {len(selected_features)}\")\n",
    "\n",
    "# Agregar enriquecimiento geográfico simple aquí directamente\n",
    "if 'region' in df_final.columns:\n",
    "    print(\"Agregando características geográficas...\")\n",
    "    \n",
    "    # Mapeo simple de densidad urbana por región\n",
    "    urban_density_map = {\n",
    "        'Copenhagen': 5, 'Aarhus': 4, 'Odense': 3, 'Aalborg': 3,\n",
    "        'Frederiksberg': 5, 'Esbjerg': 2, 'Randers': 2, 'Kolding': 2\n",
    "    }\n",
    "    \n",
    "    df_final['urban_density'] = df_final['region'].map(urban_density_map).fillna(1)\n",
    "    df_final['location_type'] = df_final['urban_density'].apply(\n",
    "        lambda x: 'Urban' if x >= 4 else 'Suburban' if x >= 2 else 'Rural'\n",
    "    )\n",
    "    \n",
    "    print(\"Características geográficas agregadas: urban_density, location_type\")\n",
    "\n",
    "print(f\"Archivos guardados en: {output_dir}\")"
   ]
  },
  {
   "cell_type": "code",
   "execution_count": null,
   "id": "51e1eca2",
   "metadata": {},
   "outputs": [],
   "source": [
    "\n",
    "results = run_complete_feature_engineering_pipeline(\n",
    "    df=df,\n",
    "    target_col=TARGET,\n",
    "    output_dir=output_dir\n",
    ")\n",
    "\n",
    "# Extraer resultados\n",
    "df_final = results['final_dataset']\n",
    "selected_features = results['selected_features']\n",
    "metadata = results['metadata']\n",
    "saved_files = results['saved_files']\n",
    "\n",
    "print(f\"\\nPipeline completado.\")\n",
    "print(f\"Dataset final: {df_final.shape[0]:,} filas x {df_final.shape[1]} columnas\")\n",
    "print(f\"Features seleccionadas: {len(selected_features)}\")\n",
    "\n",
    "# Agregar enriquecimiento geográfico simple aquí directamente\n",
    "if 'region' in df_final.columns:\n",
    "    print(\"Agregando características geográficas...\")\n",
    "    \n",
    "    # Mapeo simple de densidad urbana por región\n",
    "    urban_density_map = {\n",
    "        'Copenhagen': 5, 'Aarhus': 4, 'Odense': 3, 'Aalborg': 3,\n",
    "        'Frederiksberg': 5, 'Esbjerg': 2, 'Randers': 2, 'Kolding': 2\n",
    "    }\n",
    "    \n",
    "    df_final['urban_density'] = df_final['region'].map(urban_density_map).fillna(1)\n",
    "    df_final['location_type'] = df_final['urban_density'].apply(\n",
    "        lambda x: 'Urban' if x >= 4 else 'Suburban' if x >= 2 else 'Rural'\n",
    "    )\n",
    "    \n",
    "    print(\"Características geográficas agregadas: urban_density, location_type\")\n",
    "\n",
    "print(f\"Archivos guardados en: {output_dir}\")"
   ]
  },
  {
   "cell_type": "markdown",
   "id": "97f86427",
   "metadata": {},
   "source": [
    "## Documentación de Artefactos"
   ]
  },
  {
   "cell_type": "code",
   "execution_count": 5,
   "id": "3fa9bd68",
   "metadata": {},
   "outputs": [
    {
     "name": "stdout",
     "output_type": "stream",
     "text": [
      "Archivo                                       | Descripción\n",
      "--------------------------------------------------------------------------------\n",
      "feature_engineered_complete.parquet           | Dataset con todas las features generadas\n",
      "modeling_dataset.parquet                      | Dataset final para modelado\n",
      "train_data.parquet                            | Conjunto de entrenamiento\n",
      "test_data.parquet                             | Conjunto de prueba\n",
      "scalers.pkl                                   | Escaladores ajustados\n",
      "selected_features.txt                         | Lista de features seleccionadas\n",
      "feature_engineering_metadata.json             | Metadatos del proceso\n",
      "feature_engineering_summary.md                | Archivo auxiliar\n",
      "\n",
      "Documentación guardada: feature_engineering_summary.json\n"
     ]
    }
   ],
   "source": [
    "# Documentación de archivos generados\n",
    "print(f\"{'Archivo':<45} | {'Descripción'}\")\n",
    "print(\"-\" * 80)\n",
    "\n",
    "file_descriptions = {\n",
    "    \"feature_engineered_complete.parquet\": \"Dataset con todas las features generadas\",\n",
    "    \"modeling_dataset.parquet\": \"Dataset final para modelado\",\n",
    "    \"train_data.parquet\": \"Conjunto de entrenamiento\",\n",
    "    \"test_data.parquet\": \"Conjunto de prueba\",\n",
    "    \"selected_features.txt\": \"Lista de features seleccionadas\",\n",
    "    \"scalers.pkl\": \"Escaladores ajustados\",\n",
    "    \"feature_engineering_metadata.json\": \"Metadatos del proceso\",\n",
    "    \"feature_engineered_with_geography.parquet\": \"Dataset con enriquecimiento geográfico\"\n",
    "}\n",
    "\n",
    "for name, path_obj in saved_files.items():\n",
    "    if hasattr(path_obj, 'exists') and path_obj.exists():\n",
    "        desc = file_descriptions.get(path_obj.name, \"Archivo auxiliar\")\n",
    "        print(f\"{path_obj.name:<45} | {desc}\")\n",
    "\n",
    "# Guardar documentación final\n",
    "doc_path = output_dir / \"feature_engineering_summary.json\"\n",
    "summary = {\n",
    "    \"fecha\": datetime.now().strftime(\"%Y-%m-%d %H:%M:%S\"),\n",
    "    \"dataset_shape\": f\"{df_final.shape[0]} x {df_final.shape[1]}\",\n",
    "    \"features_count\": len(selected_features),\n",
    "    \"geographic_enrichment\": 'geographic_features' in results,\n",
    "    \"archivos_generados\": {name: str(path) for name, path in saved_files.items()}\n",
    "}\n",
    "\n",
    "with open(doc_path, 'w') as f:\n",
    "    json.dump(summary, f, indent=2)\n",
    "\n",
    "print(f\"\\nDocumentación guardada: {doc_path.name}\")"
   ]
  },
  {
   "cell_type": "markdown",
   "id": "3cd1372f",
   "metadata": {},
   "source": [
    "## Proceso Completado\n",
    "\n",
    "El pipeline de feature engineering ha sido ejecutado exitosamente con enriquecimiento geográfico incluido. Los datos están listos para el modelado supervisado."
   ]
  }
 ],
 "metadata": {
  "kernelspec": {
   "display_name": "TFBigData",
   "language": "python",
   "name": "python3"
  },
  "language_info": {
   "codemirror_mode": {
    "name": "ipython",
    "version": 3
   },
   "file_extension": ".py",
   "mimetype": "text/x-python",
   "name": "python",
   "nbconvert_exporter": "python",
   "pygments_lexer": "ipython3",
   "version": "3.10.18"
  }
 },
 "nbformat": 4,
 "nbformat_minor": 5
}
