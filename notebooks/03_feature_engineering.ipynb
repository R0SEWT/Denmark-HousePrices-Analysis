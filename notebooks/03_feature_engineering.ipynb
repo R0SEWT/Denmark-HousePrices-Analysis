{
 "cells": [
  {
   "cell_type": "code",
   "execution_count": null,
   "id": "0256c072",
   "metadata": {},
   "outputs": [],
   "source": [
    "from setup import set_project_root\n",
    "set_project_root()\n",
    "\n",
    "from config import DATA_FILE, DROP_COLS, TARGET "
   ]
  },
  {
   "cell_type": "markdown",
   "id": "a0551193",
   "metadata": {},
   "source": [
    "# 03 - Feature Engineering"
   ]
  },
  {
   "cell_type": "markdown",
   "id": "46c8f579",
   "metadata": {},
   "source": [
    "## Objetivo\n",
    "Construcción y transformación de variables predictivas."
   ]
  },
  {
   "cell_type": "markdown",
   "id": "1557572c",
   "metadata": {},
   "source": [
    "## 1. Transformación de tipos y columnas derivadas"
   ]
  },
  {
   "cell_type": "markdown",
   "id": "850a3093",
   "metadata": {},
   "source": [
    "## 2. Codificación de variables categóricas"
   ]
  },
  {
   "cell_type": "markdown",
   "id": "16cf6043",
   "metadata": {},
   "source": [
    "## 3. Normalización y escalado"
   ]
  },
  {
   "cell_type": "markdown",
   "id": "687b8a4f",
   "metadata": {},
   "source": [
    "## 4. Dataset final para modelado"
   ]
  },
  {
   "cell_type": "markdown",
   "id": "5270dd2f",
   "metadata": {},
   "source": [
    "## 5. Guardado del dataset limpio"
   ]
  }
 ],
 "metadata": {
  "language_info": {
   "name": "python"
  }
 },
 "nbformat": 4,
 "nbformat_minor": 5
}
