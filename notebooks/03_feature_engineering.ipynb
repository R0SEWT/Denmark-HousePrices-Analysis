{
 "cells": [
  {
   "cell_type": "code",
   "execution_count": null,
   "id": "0256c072",
   "metadata": {},
   "outputs": [],
   "source": [
    "from pathlib import Path\n",
    "import os\n",
    "import sys\n",
    "\n",
    "current_path = Path.cwd()\n",
    "if current_path.name == \"notebooks\":\n",
    "    project_root = current_path.parent\n",
    "else:\n",
    "    project_root = current_path\n",
    "\n",
    "os.chdir(project_root)\n",
    "print(f\"Current working directory: {Path.cwd()}\")\n",
    "\n",
    "sys.path.append(str(project_root / \"src\"))\n"
   ]
  },
  {
   "cell_type": "markdown",
   "id": "a0551193",
   "metadata": {},
   "source": [
    "# 03 - Feature Engineering"
   ]
  },
  {
   "cell_type": "markdown",
   "id": "46c8f579",
   "metadata": {},
   "source": [
    "## Objetivo\n",
    "Construcción y transformación de variables predictivas."
   ]
  },
  {
   "cell_type": "markdown",
   "id": "1557572c",
   "metadata": {},
   "source": [
    "## 1. Transformación de tipos y columnas derivadas"
   ]
  },
  {
   "cell_type": "markdown",
   "id": "850a3093",
   "metadata": {},
   "source": [
    "## 2. Codificación de variables categóricas"
   ]
  },
  {
   "cell_type": "markdown",
   "id": "16cf6043",
   "metadata": {},
   "source": [
    "## 3. Normalización y escalado"
   ]
  },
  {
   "cell_type": "markdown",
   "id": "687b8a4f",
   "metadata": {},
   "source": [
    "## 4. Dataset final para modelado"
   ]
  },
  {
   "cell_type": "markdown",
   "id": "5270dd2f",
   "metadata": {},
   "source": [
    "## 5. Guardado del dataset limpio"
   ]
  }
 ],
 "metadata": {},
 "nbformat": 4,
 "nbformat_minor": 5
}
