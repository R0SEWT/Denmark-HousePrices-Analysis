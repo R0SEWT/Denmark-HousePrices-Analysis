{
 "cells": [
  {
   "cell_type": "code",
   "execution_count": null,
   "id": "1cd407dc",
   "metadata": {},
   "outputs": [],
   "source": [
    "from setup import set_project_root\n",
    "set_project_root()\n",
    "\n",
    "from config import DATA_FILE, DROP_COLS, TARGET "
   ]
  },
  {
   "cell_type": "markdown",
   "id": "fc65558b",
   "metadata": {},
   "source": [
    "# 04 - Modelado Supervisado"
   ]
  },
  {
   "cell_type": "markdown",
   "id": "68d784c9",
   "metadata": {},
   "source": [
    "## Objetivo\n",
    "Entrenamiento y evaluación de modelos para predecir precios."
   ]
  },
  {
   "cell_type": "markdown",
   "id": "8bf631ee",
   "metadata": {},
   "source": [
    "## 1. División de datos (train/test)"
   ]
  },
  {
   "cell_type": "markdown",
   "id": "09965c45",
   "metadata": {},
   "source": [
    "## 2. Modelo base: Regresión Lineal (GLM)"
   ]
  },
  {
   "cell_type": "markdown",
   "id": "c6614ba8",
   "metadata": {},
   "source": [
    "## 3. Modelo complejo: Gradient Boosting (GBM)"
   ]
  },
  {
   "cell_type": "markdown",
   "id": "1f1d1c76",
   "metadata": {},
   "source": [
    "## 4. Comparación de métricas"
   ]
  },
  {
   "cell_type": "markdown",
   "id": "b7c3f187",
   "metadata": {},
   "source": [
    "## 5. Interpretación con SHAP y/o LIME"
   ]
  }
 ],
 "metadata": {
  "language_info": {
   "name": "python"
  }
 },
 "nbformat": 4,
 "nbformat_minor": 5
}
