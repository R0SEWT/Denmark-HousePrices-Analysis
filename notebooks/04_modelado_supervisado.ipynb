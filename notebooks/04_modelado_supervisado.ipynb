{
 "cells": [
  {
   "cell_type": "code",
   "execution_count": null,
   "id": "1cd407dc",
   "metadata": {},
   "outputs": [],
   "source": [
    "from pathlib import Path\n",
    "import os\n",
    "import sys\n",
    "\n",
    "current_path = Path.cwd()\n",
    "if current_path.name == \"notebooks\":\n",
    "    project_root = current_path.parent\n",
    "else:\n",
    "    project_root = current_path\n",
    "\n",
    "os.chdir(project_root)\n",
    "print(f\"Current working directory: {Path.cwd()}\")\n",
    "\n",
    "sys.path.append(str(project_root / \"src\"))\n"
   ]
  },
  {
   "cell_type": "markdown",
   "id": "fc65558b",
   "metadata": {},
   "source": [
    "# 04 - Modelado Supervisado"
   ]
  },
  {
   "cell_type": "markdown",
   "id": "68d784c9",
   "metadata": {},
   "source": [
    "## Objetivo\n",
    "Entrenamiento y evaluación de modelos para predecir precios."
   ]
  },
  {
   "cell_type": "markdown",
   "id": "8bf631ee",
   "metadata": {},
   "source": [
    "## 1. División de datos (train/test)"
   ]
  },
  {
   "cell_type": "markdown",
   "id": "09965c45",
   "metadata": {},
   "source": [
    "## 2. Modelo base: Regresión Lineal (GLM)"
   ]
  },
  {
   "cell_type": "markdown",
   "id": "c6614ba8",
   "metadata": {},
   "source": [
    "## 3. Modelo complejo: Gradient Boosting (GBM)"
   ]
  },
  {
   "cell_type": "markdown",
   "id": "1f1d1c76",
   "metadata": {},
   "source": [
    "## 4. Comparación de métricas"
   ]
  },
  {
   "cell_type": "markdown",
   "id": "b7c3f187",
   "metadata": {},
   "source": [
    "## 5. Interpretación con SHAP y/o LIME"
   ]
  }
 ],
 "metadata": {},
 "nbformat": 4,
 "nbformat_minor": 5
}
