{
 "cells": [
  {
   "cell_type": "code",
   "execution_count": null,
   "id": "492df8c5",
   "metadata": {},
   "outputs": [],
   "source": [
    "from setup import set_project_root\n",
    "set_project_root()\n",
    "\n",
    "from config import DATA_FILE, DROP_COLS, TARGET "
   ]
  },
  {
   "cell_type": "markdown",
   "id": "ff3ddabb",
   "metadata": {},
   "source": [
    "# 05 - Resultados Finales"
   ]
  },
  {
   "cell_type": "markdown",
   "id": "e592e3e1",
   "metadata": {},
   "source": [
    "## Objetivo\n",
    "Resumen de métricas, hallazgos y visualizaciones clave."
   ]
  },
  {
   "cell_type": "markdown",
   "id": "830fbe32",
   "metadata": {},
   "source": [
    "## 1. Tabla comparativa de modelos"
   ]
  },
  {
   "cell_type": "markdown",
   "id": "4e32cf95",
   "metadata": {},
   "source": [
    "## 2. Gráficos de error (hist, scatter, etc.)"
   ]
  },
  {
   "cell_type": "markdown",
   "id": "ec3d418a",
   "metadata": {},
   "source": [
    "## 3. Principales insights del modelo"
   ]
  },
  {
   "cell_type": "markdown",
   "id": "809cbe98",
   "metadata": {},
   "source": [
    "## 4. Recomendaciones y próximos pasos"
   ]
  }
 ],
 "metadata": {
  "language_info": {
   "name": "python"
  }
 },
 "nbformat": 4,
 "nbformat_minor": 5
}
