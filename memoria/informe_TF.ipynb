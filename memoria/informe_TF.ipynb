{
 "cells": [
  {
   "cell_type": "markdown",
   "id": "771d7350",
   "metadata": {},
   "source": [
    "# Análisis exploratorio y modelado predictivo de precios residenciales en Dinamarca (1992–2024)"
   ]
  },
  {
   "cell_type": "markdown",
   "id": "ce0a8a9f",
   "metadata": {},
   "source": []
  }
 ],
 "metadata": {
  "language_info": {
   "name": "python"
  }
 },
 "nbformat": 4,
 "nbformat_minor": 5
}
