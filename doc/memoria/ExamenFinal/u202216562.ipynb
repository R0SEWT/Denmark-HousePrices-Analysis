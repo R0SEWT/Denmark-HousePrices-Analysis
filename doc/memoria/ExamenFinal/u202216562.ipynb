{
 "cells": [
  {
   "cell_type": "markdown",
   "id": "6160cbb6",
   "metadata": {},
   "source": [
    "## Sistema de Recomendación Basado en Contenido \n",
    "\n",
    "A partir del dataset `movies_metadata.csv`, se construyó un sistema de recomendación usando procesamiento de texto con la columna `overview`. Se aplicó TF-IDF sobre las descripciones de las películas y se utilizó similitud de coseno para encontrar las más similares a las vistas por el usuario.\n",
    "\n",
    "    "
   ]
  },
  {
   "cell_type": "code",
   "execution_count": null,
   "id": "dc1047f6",
   "metadata": {},
   "outputs": [],
   "source": [
    "import pyarrow.parquet as pq\n",
    "import pandas as pd\n",
    "import h2o\n",
    "\n",
    "import seaborn as sns\n",
    "import matplotlib.pyplot as plt\n",
    "\n",
    "import scipy.stats as stats"
   ]
  },
  {
   "cell_type": "markdown",
   "id": "5b0d6954",
   "metadata": {},
   "source": [
    "## Importar librerias necesarias "
   ]
  },
  {
   "cell_type": "code",
   "execution_count": null,
   "id": "4d826193",
   "metadata": {},
   "outputs": [],
   "source": [
    "import pandas as pd\n",
    "from sklearn.feature_extraction.text import TfidfVectorizer\n",
    "from sklearn.metrics.pairwise import linear_kernel\n"
   ]
  },
  {
   "cell_type": "markdown",
   "id": "06dbe4f0",
   "metadata": {},
   "source": [
    "## Carga de datos"
   ]
  },
  {
   "cell_type": "code",
   "execution_count": null,
   "id": "4adb60cb",
   "metadata": {},
   "outputs": [],
   "source": [
    "df = pd.read_csv('datos/movies_metadata.csv')"
   ]
  },
  {
   "cell_type": "markdown",
   "id": "3db092e5",
   "metadata": {},
   "source": [
    "## Exploracion de datos"
   ]
  },
  {
   "cell_type": "code",
   "execution_count": null,
   "id": "c0175ec8",
   "metadata": {},
   "outputs": [],
   "source": [
    "df.isnull().sum()"
   ]
  },
  {
   "cell_type": "code",
   "execution_count": null,
   "id": "95e1dc71",
   "metadata": {},
   "outputs": [],
   "source": [
    "null_percentages = df.isnull().mean() * 100\n",
    "print(null_percentages.round(2).to_string())\n"
   ]
  },
  {
   "cell_type": "code",
   "execution_count": null,
   "id": "1eb2b229",
   "metadata": {},
   "outputs": [],
   "source": [
    "# Verificar duplicados de títulos\n",
    "duplicates = df[df.duplicated('title', keep=False)]\n",
    "if not duplicates.empty:\n",
    "    print(f\"Títulos duplicados encontrados: {len(duplicates)}\")"
   ]
  },
  {
   "cell_type": "code",
   "execution_count": null,
   "id": "8b3cd4c1",
   "metadata": {},
   "outputs": [],
   "source": [
    "df[df.duplicated('title', keep=False)]\n"
   ]
  },
  {
   "cell_type": "markdown",
   "id": "2c6aa442",
   "metadata": {},
   "source": [
    "## Preprocesamiento\n",
    "\n",
    "Reemplazamos los valores nulos en 'overview' con una cadena vacía para evitar errores en el vectorizador TF-IDF.\n",
    "\n",
    "```python"
   ]
  },
  {
   "cell_type": "code",
   "execution_count": null,
   "id": "bcfccbfe",
   "metadata": {},
   "outputs": [],
   "source": [
    "\n",
    "df['overview'] = df['overview'].fillna('')\n",
    "print(f\"Películas con overview vacío: {df['overview'].isna().sum()}\")\n",
    "\n"
   ]
  },
  {
   "cell_type": "markdown",
   "id": "a4b3101e",
   "metadata": {},
   "source": [
    "Vectorizamos la columna 'overview' utilizando TF-IDF para convertir el texto en una matriz de características numéricas."
   ]
  },
  {
   "cell_type": "markdown",
   "id": "a9ddd013",
   "metadata": {},
   "source": [
    "Limitamos el número de características a 10,000 para evitar el sobreajuste y mejorar la eficiencia del modelo. Luego ignoramos los terminos que aparecen en menos de 2 documentos y los que aparecen en más del 80% de los documentos. Ya que ambos tipos de términos no aportan información relevante para la recomendación.\n"
   ]
  },
  {
   "cell_type": "code",
   "execution_count": null,
   "id": "c2a8b438",
   "metadata": {},
   "outputs": [],
   "source": [
    "# Parámetros más robustos para TF-IDF\n",
    "tfidf = TfidfVectorizer(\n",
    "    #stop_words='english',        # Ignorar palabras comunes (que no aportan información)\n",
    "    max_features=10000,          # Limitar características\n",
    "    ngram_range=(1, 2),          # Bigramas\n",
    "    min_df=1,                    # Ignorar términos muy raros\n",
    "    max_df=0.9                   # Ignorar términos muy comunes\n",
    ")\n",
    "\n",
    "\n",
    "tfidf_matrix = tfidf.fit_transform(df['overview'])"
   ]
  },
  {
   "cell_type": "markdown",
   "id": "693d1511",
   "metadata": {},
   "source": [
    "Obtenemos la distancia del coseno entre las películas utilizando la matriz TF-IDF.\n"
   ]
  },
  {
   "cell_type": "code",
   "execution_count": null,
   "id": "4972527a",
   "metadata": {},
   "outputs": [],
   "source": [
    "cosine_sim = linear_kernel(tfidf_matrix, tfidf_matrix)\n"
   ]
  },
  {
   "cell_type": "code",
   "execution_count": null,
   "id": "a902c68c",
   "metadata": {},
   "outputs": [],
   "source": [
    "indices = pd.Series(df.index, index=df['title']).drop_duplicates()\n"
   ]
  },
  {
   "cell_type": "code",
   "execution_count": null,
   "id": "b94e9f13",
   "metadata": {},
   "outputs": [],
   "source": [
    "def get_recommendations(title, cosine_sim=cosine_sim):\n",
    "    try:\n",
    "        # Verificar si la película existe\n",
    "        if title not in indices:\n",
    "            return f\"Película '{title}' no encontrada en la base de datos\"\n",
    "        \n",
    "        idx = indices[title]\n",
    "        sim_scores = list(enumerate(cosine_sim[idx]))\n",
    "        sim_scores = sorted(sim_scores, key=lambda x: x[1], reverse=True)\n",
    "        sim_scores = sim_scores[1:4]  # Excluir la película misma\n",
    "        movie_indices = [i[0] for i in sim_scores]\n",
    "        \n",
    "        # Retornar con scores de similitud\n",
    "        recommendations = df[['title', 'overview']].iloc[movie_indices].copy()\n",
    "        recommendations['similarity_score'] = [score[1] for score in sim_scores]\n",
    "        \n",
    "        return recommendations\n",
    "    except Exception as e:\n",
    "        return f\"Error al obtener recomendaciones: {str(e)}\""
   ]
  },
  {
   "cell_type": "code",
   "execution_count": null,
   "id": "c5e84317",
   "metadata": {},
   "outputs": [],
   "source": [
    "print(\"Recomendaciones para 'Deadly Daycare':\")\n",
    "print(get_recommendations('Deadly Daycare'))\n"
   ]
  },
  {
   "cell_type": "code",
   "execution_count": null,
   "id": "b0b66a2f",
   "metadata": {},
   "outputs": [],
   "source": [
    "print(\"\\nRecomendaciones para 'Under the Skin':\")\n",
    "print(get_recommendations('Under the Skin'))"
   ]
  },
  {
   "cell_type": "markdown",
   "id": "a7f99151",
   "metadata": {},
   "source": [
    "## Evaluación del modelo\n",
    "\n",
    "### 1. Similitud Promedio \n",
    "Promedio de similitud coseno entre la película base y las recomendadas.      \n",
    "\n"
   ]
  },
  {
   "cell_type": "code",
   "execution_count": null,
   "id": "5d25cb12",
   "metadata": {},
   "outputs": [],
   "source": [
    "recs = get_recommendations('Under the Skin')\n",
    "recs[['title', 'similarity_score']]\n"
   ]
  },
  {
   "cell_type": "markdown",
   "id": "ebc9cfc7",
   "metadata": {},
   "source": []
  },
  {
   "cell_type": "markdown",
   "id": "8ac8d290",
   "metadata": {},
   "source": [
    "## Resultados\n",
    "\n",
    "### Recomendaciones para 'Deadly Daycare'\n",
    "Las tres películas más similares por contenido son:\n",
    "\n",
    "1. **Susan Slade** – Relato dramático sobre una adolescente embarazada.\n",
    "2. **Hideous Kinky** – Viaje emocional y espiritual de una madre e hijas.\n",
    "3. **Happy Christmas** – Historia de reconstrucción emocional luego de una ruptura.\n",
    "\n",
    "### Recomendaciones para 'Under the Skin'\n",
    "Las tres películas más similares por estilo narrativo y atmósfera son:\n",
    "\n",
    "1. **Once Upon a Time in Anatolia** – Drama contemplativo con carga emocional.\n",
    "2. **La Dolce Vita** – Crónica introspectiva de un periodista.\n",
    "3. **The Adjustment Bureau** – Thriller filosófico sobre el destino.\n",
    "\n",
    "Estas recomendaciones se basan exclusivamente en la descripción textual (`overview`) y reflejan similitud semántica con las películas vistas.\n",
    "\n",
    "### Evaluación de la calidad de las recomendaciones\n",
    "\n",
    "Las similitudes son bastante bajas (todas < 0.16), lo que sugiere que el sistema:\n",
    "\n",
    "- Está devolviendo recomendaciones débiles en términos de similitud textual\n",
    "\n",
    "- Podría beneficiarse de una vectorización más rica (por ejemplo, embeddings tipo BERT)\n",
    "\n",
    "- Tal vez la sinopsis de Under the Skin es poco común, y no encuentra matches claros en el corpus\n",
    "\n",
    "\n",
    "\n",
    "## Conclusiones\n",
    "\n",
    "El sistema de recomendación basado en contenido utilizando TF-IDF y similitud de coseno proporciona una forma básica de recomendar películas basadas en descripciones textuales. Sin embargo, la calidad de las recomendaciones puede ser limitada por la naturaleza del texto y la falta de contexto adicional.\n",
    "\n",
    "\n",
    "## Recomendaciones\n",
    "\n",
    "Usar optuna para optimizar los parámetros del modelo TF-IDF, como el número de características, el uso de stopwords, el rango de n-gramas, y los umbrales de frecuencia mínima y máxima."
   ]
  },
  {
   "cell_type": "markdown",
   "id": "7b953d5b",
   "metadata": {},
   "source": []
  },
  {
   "cell_type": "markdown",
   "id": "fd8a49bb",
   "metadata": {},
   "source": [
    "## Análisis Exploratorio y Modelado - Dataset Bancario\n",
    "\n",
    "Se utilizó el dataset `bank-additional-full.csv` para construir un modelo predictivo sobre la variable objetivo `y` (responde o no a una campaña de marketing). Se llevaron a cabo las siguientes etapas:\n",
    "\n",
    "### Análisis Exploratorio de Datos\n",
    "- Se revisó la proporción de clases (`yes` vs `no`) y se detectó un desbalance.\n",
    "- Variables como `duration`, `pdays`, `previous`, `balance` y `contact` mostraron correlaciones interesantes con la respuesta.\n",
    "- Se eliminaron variables como `duration`, ya que su valor solo se conoce post-contacto y no es útil para predecir la respuesta a la campaña.\n",
    "\n",
    "### Modelos Aplicados\n",
    "\n",
    "Se entrenaron los siguientes algoritmos clásicos:\n",
    "\n",
    "- **Logistic Regression**\n",
    "- **Random Forest**\n",
    "- **Gradient Boosting**\n",
    "\n",
    "Además, se aplicó **H2O AutoML**, el cual seleccionó un `StackedEnsemble` como modelo líder.\n",
    "\n",
    "### Resultados\n",
    "\n",
    "### 📊 Comparativa de Modelos\n",
    "\n",
    "| Modelo               | Accuracy | F1-Score | AUC   | Observaciones                              |\n",
    "|----------------------|----------|----------|-------|--------------------------------------------|\n",
    "| Logistic Regression  | 0.89     | 0.31     | 0.79  | Rápido, fácil de interpretar                |\n",
    "| Random Forest        | 0.89     | 0.33     | 0.80  | Mejor F1 que LR, sensible al overfitting   |\n",
    "| Gradient Boosting    | 0.90     | 0.34     | 0.81  | Mejor AUC, buen balance                    |\n",
    "| **AutoML (StackedEnsemble)** | **0.89**     | **0.49**     | **0.80**  | Mejor F1 overall, combina modelos base     |\n",
    "\n",
    "> **Conclusión:** AutoML entregó el mejor F1-score, crucial ante datos desbalanceados. Sin embargo, Gradient Boosting fue el modelo clásico más competitivo.\n",
    "\n",
    "\n",
    "### Interpretabilidad\n",
    "\n",
    "Se utilizó **SHAP** para interpretar el modelo Gradient Boosting, identificando como variables más influyentes:\n",
    "\n",
    "1. `pdays`\n",
    "2. `previous`\n",
    "3. `balance`\n",
    "4. `contact`\n",
    "5. `marital_status`\n",
    "\n",
    "Estas influyen tanto positiva como negativamente en la probabilidad de aceptar la campaña.\n",
    "\n",
    "### Perfiles de clientes y recomendaciones\n",
    "\n",
    "A partir del análisis exploratorio y la interpretabilidad con SHAP, se identificaron los siguientes perfiles clave:\n",
    "\n",
    "- **Clientes con historial previo de contacto (`previous > 0`) y pocos días desde el último (`pdays` bajo):**  \n",
    "  Tienen mayor probabilidad de aceptar.  \n",
    "  **Recomendación:** Contactarlos nuevamente en el corto plazo, priorizando campañas personalizadas.\n",
    "\n",
    "- **Clientes con `contact` tipo celular y estado `married`:**  \n",
    "  Presentan respuestas positivas moderadas.  \n",
    "  **Recomendación:** Campañas de seguimiento mediante SMS o llamadas directas.\n",
    "\n",
    "- **Clientes jóvenes sin historial (`previous = 0`) ni interacción reciente (`pdays` alto):**  \n",
    "  Baja probabilidad de conversión.  \n",
    "  **Recomendación:** Evitar incluirlos en campañas agresivas; usar canales alternativos como email marketing o contenidos.\n",
    "\n",
    "Estas observaciones fueron extraídas a partir de la contribución media de las variables en el modelo Gradient Boosting usando **SHAP**, sin necesidad de aplicar clustering adicional.\n",
    "\n"
   ]
  },
  {
   "cell_type": "markdown",
   "id": "f843c55c",
   "metadata": {},
   "source": [
    "## EDA"
   ]
  },
  {
   "cell_type": "markdown",
   "id": "65e8ebab",
   "metadata": {},
   "source": [
    "### Librerias"
   ]
  },
  {
   "cell_type": "code",
   "execution_count": null,
   "id": "d483e591",
   "metadata": {},
   "outputs": [],
   "source": [
    "import pandas as pd\n",
    "import numpy as np\n",
    "import seaborn as sns   \n",
    "import matplotlib.pyplot as plt"
   ]
  },
  {
   "cell_type": "markdown",
   "id": "fea18875",
   "metadata": {},
   "source": [
    "### Carga de datos"
   ]
  },
  {
   "cell_type": "code",
   "execution_count": null,
   "id": "da4c0210",
   "metadata": {},
   "outputs": [],
   "source": [
    "df = pd.read_csv('datos/bank-additional-full.csv', sep=';')\n",
    "print(f\"El dataset contiene {df.shape[0]:,} filas y {df.shape[1]:,} columnas.\")\n",
    "df.head()\n"
   ]
  },
  {
   "cell_type": "markdown",
   "id": "943c9856",
   "metadata": {},
   "source": []
  },
  {
   "cell_type": "code",
   "execution_count": null,
   "id": "c8d9ff57",
   "metadata": {},
   "outputs": [],
   "source": [
    "df.isnull().sum()"
   ]
  },
  {
   "cell_type": "code",
   "execution_count": null,
   "id": "a62ffdb7",
   "metadata": {},
   "outputs": [],
   "source": [
    "df.duplicated().sum()"
   ]
  },
  {
   "cell_type": "markdown",
   "id": "07d1224d",
   "metadata": {},
   "source": [
    "Estos duplicados no deben ser eliminados, ya que representan diferentes registros."
   ]
  },
  {
   "cell_type": "code",
   "execution_count": null,
   "id": "e2f02638",
   "metadata": {},
   "outputs": [],
   "source": [
    "print(df.shape)\n",
    "print(df['y'].value_counts(normalize=True))\n",
    "\n",
    "# Visualización de la variable objetivo\n",
    "sns.countplot(x='y', data=df)\n",
    "plt.title('Distribución de la variable objetivo')\n",
    "plt.show()"
   ]
  },
  {
   "cell_type": "markdown",
   "id": "0140aac1",
   "metadata": {},
   "source": [
    "## 3. Preprocesamiento\n"
   ]
  },
  {
   "cell_type": "code",
   "execution_count": null,
   "id": "253f011f",
   "metadata": {},
   "outputs": [],
   "source": [
    "df.columns\n",
    "\n"
   ]
  },
  {
   "cell_type": "markdown",
   "id": "0c59efd7",
   "metadata": {},
   "source": [
    "Usaremos todas la variables excepto 'y' para el entrenamiento del modelo. La variable 'y' será nuestra variable objetivo."
   ]
  },
  {
   "cell_type": "markdown",
   "id": "749f9333",
   "metadata": {},
   "source": [
    "\n",
    "La variable 'duration' se elimina porque solo se conoce después de la llamada, lo que no es útil para predecir si un cliente subscribirá o no."
   ]
  },
  {
   "attachments": {
    "image.png": {
     "image/png": "[encoded data removed]"
    }
   },
   "cell_type": "markdown",
   "id": "99c9b24d",
   "metadata": {},
   "source": [
    "![image.png](attachment:image.png)"
   ]
  },
  {
   "cell_type": "code",
   "execution_count": null,
   "id": "bfcb6a0b",
   "metadata": {},
   "outputs": [],
   "source": [
    "\n",
    "df = df.drop(columns=['duration'])  # duración solo se conoce post-llamada\n",
    "original_columns = df.columns.tolist()\n",
    "\n",
    "df = pd.get_dummies(df, drop_first=True)"
   ]
  },
  {
   "cell_type": "code",
   "execution_count": null,
   "id": "8af044b5",
   "metadata": {},
   "outputs": [],
   "source": [
    "\n",
    "X = df.drop('y_yes', axis=1)\n",
    "y = df['y_yes']\n",
    "\n"
   ]
  },
  {
   "cell_type": "markdown",
   "id": "a342eb5e",
   "metadata": {},
   "source": [
    "## 4. Entrenamiento del modelo"
   ]
  },
  {
   "cell_type": "markdown",
   "id": "5076baf5",
   "metadata": {},
   "source": [
    "Dividimos los datos en entrenamiento, prueba y validación. Usamos el 70% de los datos para entrenamiento, 15% para prueba y 15% para validación.\n",
    "\n",
    "Luego balanceamos los datos para que la clase minoritaria tenga el mismo número de muestras que la clase mayoritaria, con el fin de evitar sesgos. El sobremuestreo se realiza utilizando la técnica SMOTE (Synthetic Minority Over-sampling Technique), que genera ejemplos sintéticos de la clase minoritaria en el dataset de entrenamiento.\n"
   ]
  },
  {
   "cell_type": "code",
   "execution_count": null,
   "id": "e5f6defe",
   "metadata": {},
   "outputs": [],
   "source": [
    "\n",
    "from sklearn.model_selection import train_test_split\n",
    "from sklearn.preprocessing import StandardScaler\n",
    "from sklearn.metrics import classification_report, confusion_matrix\n",
    "from sklearn.linear_model import LogisticRegression\n",
    "from sklearn.ensemble import RandomForestClassifier, GradientBoostingClassifier\n"
   ]
  },
  {
   "cell_type": "code",
   "execution_count": null,
   "id": "91f19cf0",
   "metadata": {},
   "outputs": [],
   "source": [
    "# balancear clases\n",
    "\n",
    "print(f\"Distribución original de la variable objetivo:\\n{y.value_counts(normalize=True)}\")"
   ]
  },
  {
   "cell_type": "code",
   "execution_count": null,
   "id": "6b1e62d6",
   "metadata": {},
   "outputs": [],
   "source": [
    "from sklearn.model_selection import train_test_split\n",
    "from imblearn.over_sampling import SMOTE\n",
    "\n",
    "# 70% train, 15% val, 15% test\n",
    "X_temp, X_test, y_temp, y_test = train_test_split(X, y, test_size=0.15, stratify=y, random_state=42)\n",
    "X_train, X_val, y_train, y_val = train_test_split(X_temp, y_temp, test_size=0.1765, stratify=y_temp, random_state=42)\n",
    "\n",
    "print(\"Distribución original de y_train:\")\n",
    "print(y_train.value_counts(normalize=True))\n",
    "\n",
    "# SMOTE solo en entrenamiento\n",
    "smote = SMOTE(random_state=42)\n",
    "X_train_sm, y_train_sm = smote.fit_resample(X_train, y_train)\n",
    "\n",
    "print(\"\\nDistribución después de SMOTE:\")\n",
    "print(y_train_sm.value_counts(normalize=True))\n"
   ]
  },
  {
   "cell_type": "code",
   "execution_count": null,
   "id": "e321a977",
   "metadata": {},
   "outputs": [],
   "source": [
    "# 5. Escalar características\n",
    "scaler = StandardScaler()\n",
    "X_train = scaler.fit_transform(X_train)\n",
    "X_test = scaler.transform(X_test)\n"
   ]
  },
  {
   "cell_type": "code",
   "execution_count": null,
   "id": "0b07d715",
   "metadata": {},
   "outputs": [],
   "source": [
    "from sklearn.linear_model import LogisticRegression\n",
    "from sklearn.ensemble import RandomForestClassifier, GradientBoostingClassifier\n",
    "from sklearn.metrics import accuracy_score, f1_score, roc_auc_score, classification_report, confusion_matrix\n",
    "# 6. Modelos clásicos\n",
    "models = {\n",
    "    \"Logistic Regression\": LogisticRegression(max_iter=1000),\n",
    "    \"Random Forest\": RandomForestClassifier(),\n",
    "    \"Gradient Boosting\": GradientBoostingClassifier()\n",
    "}\n"
   ]
  },
  {
   "cell_type": "code",
   "execution_count": null,
   "id": "636cb559",
   "metadata": {},
   "outputs": [],
   "source": [
    "# Entrenar y evaluar modelos\n",
    "metrics_summary = []\n",
    "\n",
    "for name, model in models.items():\n",
    "    model.fit(X_train, y_train)  # Entrenamiento\n",
    "\n",
    "    y_pred = model.predict(X_test)\n",
    "    y_prob = model.predict_proba(X_test)[:, 1]\n",
    "\n",
    "    metrics_summary.append({\n",
    "        \"Modelo\": name,\n",
    "        \"F1-Score\": f1_score(y_test, y_pred),\n",
    "        \"AUC\": roc_auc_score(y_test, y_prob),\n",
    "        \"confusion_matrix\": confusion_matrix(y_test, y_pred),\n",
    "        \"classification_report\": classification_report(y_test, y_pred, output_dict=True)\n",
    "    })\n"
   ]
  },
  {
   "cell_type": "code",
   "execution_count": null,
   "id": "403d26cd",
   "metadata": {},
   "outputs": [],
   "source": [
    "from sklearn.metrics import roc_curve, auc, confusion_matrix, ConfusionMatrixDisplay\n",
    "\n",
    "plt.figure(figsize=(8, 6))\n",
    "\n",
    "for name, model in models.items():\n",
    "    model.fit(X_train, y_train)\n",
    "    y_prob = model.predict_proba(X_test)[:, 1]\n",
    "    fpr, tpr, _ = roc_curve(y_test, y_prob)\n",
    "    roc_auc = auc(fpr, tpr)\n",
    "    \n",
    "    plt.plot(fpr, tpr, label=f\"{name} (AUC = {roc_auc:.2f})\")\n",
    "\n",
    "plt.plot([0, 1], [0, 1], \"k--\")  # Línea base\n",
    "plt.title(\"Curvas ROC - Comparación de Modelos\")\n",
    "plt.xlabel(\"Tasa de Falsos Positivos\")\n",
    "plt.ylabel(\"Tasa de Verdaderos Positivos\")\n",
    "plt.legend(loc=\"lower right\")\n",
    "plt.grid(True)\n",
    "plt.tight_layout()\n",
    "plt.show()\n"
   ]
  },
  {
   "cell_type": "code",
   "execution_count": null,
   "id": "099270d0",
   "metadata": {},
   "outputs": [],
   "source": [
    "# Matrices de confusión\n",
    "for name, model in models.items():\n",
    "    model.fit(X_train, y_train)\n",
    "    y_pred = model.predict(X_test)\n",
    "    disp = ConfusionMatrixDisplay.from_predictions(y_test, y_pred, cmap=\"Blues\")\n",
    "    disp.ax_.set_title(f\"Matriz de Confusión - {name}\")\n",
    "    plt.tight_layout()\n",
    "    plt.show()"
   ]
  },
  {
   "cell_type": "markdown",
   "id": "d8c636bf",
   "metadata": {},
   "source": [
    "## H2O AutoML"
   ]
  },
  {
   "cell_type": "code",
   "execution_count": null,
   "id": "8cc83b49",
   "metadata": {},
   "outputs": [],
   "source": [
    "# 7. H2O AutoML\n",
    "import h2o\n",
    "from h2o.automl import H2OAutoML\n",
    "from h2o.frame import H2OFrame\n",
    "\n",
    "h2o.init()\n",
    "\n",
    "# Convertir el DataFrame a H2OFrame\n",
    "h2o_df = h2o.H2OFrame(df)\n",
    "h2o_df['y_yes'] = h2o_df['y_yes'].asfactor()\n",
    "\n",
    "# Split\n",
    "train, test = h2o_df.split_frame(ratios=[0.8], seed=1)\n",
    "\n",
    "# AutoML sin DeepLearning (usa GPU si está disponible)\n",
    "aml = H2OAutoML(max_models=10, seed=1, exclude_algos=['DeepLearning'])\n",
    "aml.train(y='y_yes', training_frame=train)\n"
   ]
  },
  {
   "cell_type": "code",
   "execution_count": null,
   "id": "1102fd9b",
   "metadata": {},
   "outputs": [],
   "source": [
    "\n",
    "# Leaderboard\n",
    "lb = aml.leaderboard.as_data_frame()\n",
    "print(lb.head())\n"
   ]
  },
  {
   "cell_type": "code",
   "execution_count": null,
   "id": "2ce77bdc",
   "metadata": {},
   "outputs": [],
   "source": [
    "\n",
    "# Curva ROC del mejor modelo\n",
    "perf = aml.leader.model_performance(test_data=test)\n",
    "perf.plot(type=\"roc\")\n"
   ]
  },
  {
   "cell_type": "code",
   "execution_count": null,
   "id": "44cdd7f8",
   "metadata": {},
   "outputs": [],
   "source": [
    "\n",
    "# Matriz de confusión (no soportado)\n",
    "\n",
    "# Extra: AUC, Accuracy, F1 del mejor modelo\n",
    "print(\"AUC:\", perf.auc())\n",
    "print(\"Accuracy:\", perf.accuracy()[0][1])\n",
    "print(\"F1-Score:\", perf.F1()[0][1])\n"
   ]
  },
  {
   "cell_type": "code",
   "execution_count": null,
   "id": "6263c82d",
   "metadata": {},
   "outputs": [],
   "source": [
    "\n",
    "from sklearn.metrics import confusion_matrix, ConfusionMatrixDisplay\n",
    "\n",
    "# Obtener predicciones como pandas\n",
    "y_pred = aml.leader.predict(test).as_data_frame(use_multi_thread=True)[\"predict\"]\n",
    "y_true = test[\"y_yes\"].as_data_frame(use_multi_thread=True)[\"y_yes\"]\n",
    "\n",
    "# Mostrar matriz de confusión\n",
    "ConfusionMatrixDisplay.from_predictions(y_true, y_pred, cmap=\"Blues\")\n",
    "plt.title(\"Matriz de Confusión - H2O AutoML (líder)\")\n",
    "plt.tight_layout()\n"
   ]
  },
  {
   "cell_type": "code",
   "execution_count": null,
   "id": "56898de1",
   "metadata": {},
   "outputs": [],
   "source": [
    "print(aml.leader.algo)  # Ej: 'gbm', 'xgboost', 'stackedensemble'\n"
   ]
  },
  {
   "cell_type": "markdown",
   "id": "562090fc",
   "metadata": {},
   "source": [
    "Un ensamble de modelos que combina múltiples algoritmos para mejorar la precisión y robustez de las predicciones. H2O AutoML automatiza el proceso de entrenamiento y selección de modelos, optimizando hiperparámetros y evaluando múltiples algoritmos. El problema es que se dificulta la interpretabilidad del modelo, ya que es un ensamble de múltiples modelos."
   ]
  },
  {
   "cell_type": "code",
   "execution_count": null,
   "id": "5a77ca74",
   "metadata": {},
   "outputs": [],
   "source": [
    "# Hizo muchas cosas pero no entendi nada\n",
    "# # `model` es el líder del AutoML\n",
    "# model = aml.leader\n",
    "\n",
    "# # Usa test de H2OFrame\n",
    "# model.explain(test)\n",
    "\n",
    "\n"
   ]
  },
  {
   "cell_type": "markdown",
   "id": "ea0366c5",
   "metadata": {},
   "source": [
    "## Seleccion del modelo (emplearemos el Grader Boosting)"
   ]
  },
  {
   "cell_type": "code",
   "execution_count": null,
   "id": "d501ffe0",
   "metadata": {},
   "outputs": [],
   "source": [
    "gbc = models[\"Gradient Boosting\"]\n",
    "\n",
    "# Ya entrenado, pero por si acaso\n",
    "gbc.fit(X_train, y_train)\n",
    "\n",
    "y_pred = gbc.predict(X_test)\n",
    "y_prob = gbc.predict_proba(X_test)[:, 1]\n",
    "\n",
    "print(\"F1-Score:\", f1_score(y_test, y_pred))\n",
    "print(\"AUC:\", roc_auc_score(y_test, y_prob))\n",
    "print(\"Confusion Matrix:\\n\", confusion_matrix(y_test, y_pred))\n",
    "print(\"\\nClassification Report:\")\n",
    "print(classification_report(y_test, y_pred))\n"
   ]
  },
  {
   "cell_type": "code",
   "execution_count": null,
   "id": "536b950e",
   "metadata": {},
   "outputs": [],
   "source": [
    "!pip install shap\n"
   ]
  },
  {
   "cell_type": "code",
   "execution_count": null,
   "id": "8b000221",
   "metadata": {},
   "outputs": [],
   "source": [
    "import shap\n",
    "import pandas as pd\n",
    "from sklearn.preprocessing import StandardScaler\n",
    "\n",
    "# Usamos X con nombres como referencia\n",
    "feature_names = X.columns.tolist()\n",
    "\n",
    "# Escalar y restaurar nombres\n",
    "scaler = StandardScaler()\n",
    "X_train_scaled = pd.DataFrame(scaler.fit_transform(X_train), columns=feature_names)\n",
    "X_test_scaled = pd.DataFrame(scaler.transform(X_test), columns=feature_names)\n",
    "\n",
    "# SHAP\n",
    "explainer = shap.Explainer(gbc, X_train_scaled)\n",
    "shap_values = explainer(X_test_scaled)\n",
    "\n",
    "# Plots\n",
    "shap.summary_plot(shap_values, X_test_scaled)\n",
    "shap.plots.bar(shap_values)\n"
   ]
  },
  {
   "cell_type": "code",
   "execution_count": null,
   "id": "da5ad888",
   "metadata": {},
   "outputs": [],
   "source": []
  }
 ],
 "metadata": {
  "kernelspec": {
   "display_name": "BigData",
   "language": "python",
   "name": "python3"
  },
  "language_info": {
   "codemirror_mode": {
    "name": "ipython",
    "version": 3
   },
   "file_extension": ".py",
   "mimetype": "text/x-python",
   "name": "python",
   "nbconvert_exporter": "python",
   "pygments_lexer": "ipython3",
   "version": "3.10.18"
  }
 },
 "nbformat": 4,
 "nbformat_minor": 5
}
