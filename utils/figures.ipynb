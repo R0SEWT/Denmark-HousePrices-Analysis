{
 "cells": [
  {
   "cell_type": "code",
   "execution_count": 3,
   "id": "55106e48",
   "metadata": {},
   "outputs": [],
   "source": [
    "#sudo dnf install graphviz -y (fedora)\n",
    "\n",
    "#!sudo dnf install graphviz"
   ]
  },
  {
   "cell_type": "code",
   "execution_count": 4,
   "id": "0b3db8f8",
   "metadata": {},
   "outputs": [
    {
     "name": "stdout",
     "output_type": "stream",
     "text": [
      "Requirement already satisfied: graphviz in /home/exodia/miniconda3/envs/TFBigData/lib/python3.10/site-packages (0.21)\n"
     ]
    }
   ],
   "source": [
    "!pip install graphviz"
   ]
  },
  {
   "cell_type": "code",
   "execution_count": 5,
   "id": "6786d046",
   "metadata": {},
   "outputs": [],
   "source": [
    "from graphviz import Digraph\n",
    "\n",
    "resources_path = 'doc_src/'"
   ]
  },
  {
   "cell_type": "code",
   "execution_count": 6,
   "id": "2f25d9a4",
   "metadata": {},
   "outputs": [
    {
     "data": {
      "text/plain": [
       "'doc_src/data_analysis_flow.png'"
      ]
     },
     "execution_count": 6,
     "metadata": {},
     "output_type": "execute_result"
    }
   ],
   "source": [
    "\n",
    "dot = Digraph(comment='Análisis de Datos en Big Data')\n",
    "\n",
    "dot.node('A', '1. Exploración (EDA)\\n- Limpieza y resumen\\n- Visualización\\n- Outliers')\n",
    "dot.node('B', '2. Descriptivo\\n- KPIs\\n- Agrupaciones\\n- Evolución temporal')\n",
    "dot.node('C', '3. Diagnóstico\\n- Correlaciones\\n- Factores influyentes\\n- Multivariable')\n",
    "dot.node('D', '4. Predictivo\\n- Modelado supervisado\\n- Predicción de precios\\n- Interpretación')\n",
    "\n",
    "dot.edges(['AB', 'BC', 'CD'])\n",
    "dot.render(f'{resources_path}/data_analysis_flow', format='png', cleanup=True)  # Guarda como PNG\n",
    "\n"
   ]
  },
  {
   "cell_type": "code",
   "execution_count": 7,
   "id": "cc07c965",
   "metadata": {},
   "outputs": [
    {
     "data": {
      "text/plain": [
       "'doc_src/data_analysis_flow1.png'"
      ]
     },
     "execution_count": 7,
     "metadata": {},
     "output_type": "execute_result"
    }
   ],
   "source": [
    "dot = Digraph('DataAnalysis', format='png')\n",
    "\n",
    "# Estilo general\n",
    "dot.attr(rankdir='TB', size='8,5')  # top-bottom\n",
    "dot.attr('node', shape='box', style='filled', fontname='Helvetica', fontsize='12', color='lightgray', fillcolor='#EAF2F8')\n",
    "\n",
    "# Nodo 1: EDA\n",
    "dot.node('EDA', '''1. Exploración (EDA)\n",
    "- Limpieza y resumen\n",
    "- Visualización básica\n",
    "- Detección de outliers''', fillcolor='#AED6F1')\n",
    "\n",
    "# Nodo 2: Descriptivo\n",
    "dot.node('DES', '''2. Análisis Descriptivo\n",
    "- KPIs por zona\n",
    "- Promedios y medianas\n",
    "- Evolución temporal''', fillcolor='#A3E4D7')\n",
    "\n",
    "# Nodo 3: Diagnóstico\n",
    "dot.node('DIA', '''3. Análisis Diagnóstico\n",
    "- Correlaciones\n",
    "- Análisis multivariable\n",
    "- Identificación de causas''', fillcolor='#F9E79F')\n",
    "\n",
    "# Nodo 4: Predictivo\n",
    "dot.node('PRE', '''4. Análisis Predictivo\n",
    "- Modelos supervisados\n",
    "- Predicción de precios\n",
    "- Interpretación de resultados''', fillcolor='#F5B7B1')\n",
    "\n",
    "# Flechas\n",
    "dot.edge('EDA', 'DES')\n",
    "dot.edge('DES', 'DIA')\n",
    "dot.edge('DIA', 'PRE')\n",
    "\n",
    "# Exportar\n",
    "dot.render(f'{resources_path}/data_analysis_flow1', cleanup=True)"
   ]
  },
  {
   "cell_type": "code",
   "execution_count": 8,
   "id": "9ded9a41",
   "metadata": {},
   "outputs": [
    {
     "data": {
      "text/plain": [
       "'doc_src/data_analysis_flow_complete.png'"
      ]
     },
     "execution_count": 8,
     "metadata": {},
     "output_type": "execute_result"
    }
   ],
   "source": [
    "from graphviz import Digraph\n",
    "\n",
    "dot = Digraph('DataAnalysis', format='png')\n",
    "dot.attr(rankdir='TB', size='8,10')\n",
    "dot.attr('node', shape='box', style='filled', fontname='Helvetica', fontsize='11')\n",
    "\n",
    "# Colores\n",
    "BASE = '#D5F5E3'\n",
    "EDA = '#AED6F1'\n",
    "DES = '#A3E4D7'\n",
    "DIA = '#F9E79F'\n",
    "PRE = '#F5B7B1'\n",
    "TBD = '#FADBD8'\n",
    "\n",
    "# Fases base\n",
    "dot.node('EDA', '''1. Exploración (EDA)\n",
    "- Inspección general\n",
    "- Limpieza inicial\n",
    "- Análisis univariado\n",
    "- Análisis bivariado\n",
    "- Visualización''', fillcolor=EDA)\n",
    "\n",
    "dot.node('DES', '''2. Descriptivo\n",
    "- KPIs por región\n",
    "- Tendencias por año\n",
    "- Agrupaciones por tipo''', fillcolor=DES)\n",
    "\n",
    "dot.node('DIA', '''3. Diagnóstico\n",
    "- Correlaciones\n",
    "- Comparación entre grupos\n",
    "- Identificación de causas''', fillcolor=DIA)\n",
    "\n",
    "dot.node('PRE', '''4. Predictivo (MODELADO)\n",
    "- Modelos ML (GLM, XGBoost)\n",
    "- Validación cruzada\n",
    "- Interpretación (SHAP, coef)''', fillcolor=PRE)\n",
    "\n",
    "# Conexión principal\n",
    "dot.edge('EDA', 'DES')\n",
    "dot.edge('DES', 'DIA')\n",
    "dot.edge('DIA', 'PRE')\n",
    "\n",
    "# Tareas opcionales (TBD)\n",
    "dot.node('MAP', '''[TBD] Mapa geográfico de precios''', fillcolor=TBD)\n",
    "dot.node('SEG', '''[TBD] Segmentación de mercado''', fillcolor=TBD)\n",
    "dot.node('TIME', '''[TBD] Modelado de series temporales''', fillcolor=TBD)\n",
    "dot.node('OUT', '''[TBD] Detección de anomalías\n",
    "- Errores vs. predicciones\n",
    "- Umbrales dinámicos\n",
    "- Posibles señales de crisis''', fillcolor=TBD)\n",
    "dot.edge('TIME', 'OUT', style='dashed')\n",
    "\n",
    "\n",
    "# Conexiones opcionales\n",
    "dot.edge('EDA', 'MAP', style='dashed')\n",
    "dot.edge('DIA', 'SEG', style='dashed')\n",
    "dot.edge('PRE', 'TIME', style='dashed')\n",
    "\n",
    "# Exportar\n",
    "dot.render(f'{resources_path}/data_analysis_flow_complete', cleanup=True)\n"
   ]
  },
  {
   "cell_type": "code",
   "execution_count": 9,
   "id": "b2ce7caf",
   "metadata": {},
   "outputs": [
    {
     "data": {
      "text/plain": [
       "'doc_src/data_pipeline_overview.png'"
      ]
     },
     "execution_count": 9,
     "metadata": {},
     "output_type": "execute_result"
    }
   ],
   "source": [
    "dot = Digraph('DataPipeline', format='png')\n",
    "dot.attr(rankdir='TB', size='7,8')\n",
    "dot.attr('node', shape='box', style='filled', fontname='Helvetica', fontsize='11')\n",
    "\n",
    "# Colores\n",
    "DATA = '#D6EAF8'\n",
    "PREP = '#AED6F1'\n",
    "ANALYSIS = '#A3E4D7'\n",
    "MODEL = '#F5B7B1'\n",
    "INTERP = '#FADBD8'\n",
    "OPTIONAL = '#F9E79F'\n",
    "\n",
    "# Nodos principales\n",
    "dot.node('RAW', 'Datos brutos (Kaggle)', fillcolor=DATA)\n",
    "dot.node('PREPROC', 'Preprocesamiento / EDA\\n(Limpieza + Visualización)', fillcolor=PREP)\n",
    "dot.node('ANALYSIS', 'Análisis descriptivo y diagnóstico\\n(KPIs, Correlaciones, Comparaciones)', fillcolor=ANALYSIS)\n",
    "dot.node('MODELING', 'Modelado predictivo\\n(GLM, XGBoost, AutoML)', fillcolor=MODEL)\n",
    "dot.node('INTERP', 'Interpretación de resultados\\n(SHAP, coeficientes)', fillcolor=INTERP)\n",
    "\n",
    "# Opcional: modelado de series temporales + anomalías\n",
    "dot.node('TIME', 'Modelado temporal [TBD]', fillcolor=OPTIONAL)\n",
    "dot.node('ANOM', 'Detección de anomalías [TBD]', fillcolor=OPTIONAL)\n",
    "\n",
    "# Conexiones\n",
    "dot.edge('RAW', 'PREPROC')\n",
    "dot.edge('PREPROC', 'ANALYSIS')\n",
    "dot.edge('ANALYSIS', 'MODELING')\n",
    "dot.edge('MODELING', 'INTERP')\n",
    "dot.edge('INTERP', 'TIME', style='dashed')\n",
    "dot.edge('TIME', 'ANOM', style='dashed')\n",
    "\n",
    "# Exportar\n",
    "dot.render(f'{resources_path}/data_pipeline_overview', cleanup=True)\n"
   ]
  }
 ],
 "metadata": {
  "kernelspec": {
   "display_name": "TFBigData",
   "language": "python",
   "name": "python3"
  },
  "language_info": {
   "codemirror_mode": {
    "name": "ipython",
    "version": 3
   },
   "file_extension": ".py",
   "mimetype": "text/x-python",
   "name": "python",
   "nbconvert_exporter": "python",
   "pygments_lexer": "ipython3",
   "version": "3.10.18"
  }
 },
 "nbformat": 4,
 "nbformat_minor": 5
}
