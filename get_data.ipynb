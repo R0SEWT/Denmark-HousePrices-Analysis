{
 "cells": [
  {
   "cell_type": "code",
   "execution_count": 2,
   "id": "b3de6681",
   "metadata": {},
   "outputs": [
    {
     "name": "stdout",
     "output_type": "stream",
     "text": [
      "Data already downloaded.\n"
     ]
    }
   ],
   "source": [
    "import os\n",
    "\n",
    "if (\"data\" not in os.listdir()):\n",
    "    !kaggle datasets download -d robikscube/flight-delay-dataset-20182022 --unzip -p data\n",
    "else:\n",
    "    print(\"Data already downloaded.\")"
   ]
  },
  {
   "cell_type": "code",
   "execution_count": 4,
   "id": "adb03bc6",
   "metadata": {},
   "outputs": [],
   "source": [
    "def download_data():\n",
    "    if (\"data\" not in os.listdir()):\n",
    "        !kaggle datasets download -d robikscube/flight-delay-dataset-20182022 --unzip -p data\n",
    "    else:\n",
    "        print(\"Data already downloaded.\")"
   ]
  },
  {
   "cell_type": "code",
   "execution_count": 5,
   "id": "62a72f62",
   "metadata": {},
   "outputs": [
    {
     "name": "stdout",
     "output_type": "stream",
     "text": [
      "Data already downloaded.\n"
     ]
    }
   ],
   "source": [
    "download_data()"
   ]
  }
 ],
 "metadata": {
  "kernelspec": {
   "display_name": "TFBigData",
   "language": "python",
   "name": "python3"
  },
  "language_info": {
   "codemirror_mode": {
    "name": "ipython",
    "version": 3
   },
   "file_extension": ".py",
   "mimetype": "text/x-python",
   "name": "python",
   "nbconvert_exporter": "python",
   "pygments_lexer": "ipython3",
   "version": "3.10.18"
  }
 },
 "nbformat": 4,
 "nbformat_minor": 5
}
